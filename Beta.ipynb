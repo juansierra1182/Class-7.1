{
 "cells": [
  {
   "cell_type": "code",
   "execution_count": 41,
   "metadata": {},
   "outputs": [],
   "source": [
    "import pandas as pd\n",
    "import numpy as np\n",
    "import scipy\n",
    "import matplotlib.pyplot as plt"
   ]
  },
  {
   "cell_type": "code",
   "execution_count": 42,
   "metadata": {},
   "outputs": [],
   "source": [
    "# Reading the files needed for the analysis\n",
    "stock_pct_reduced = pd.read_csv('Outputs/stock_pct_reduced.csv')\n",
    "indices_pct = pd.read_csv('Outputs/indices_pct_clean.csv')\n",
    "optimal_risky_portfolio = pd.read_csv('Outputs/Optimal_risky_portfolio.csv')\n",
    "\n",
    "combined = pd.concat([stock_pct_reduced,indices_pct], axis=1)"
   ]
  },
  {
   "cell_type": "code",
   "execution_count": 43,
   "metadata": {},
   "outputs": [],
   "source": [
    "cov_matrix = combined.cov()*252\n"
   ]
  },
  {
   "cell_type": "code",
   "execution_count": 44,
   "metadata": {},
   "outputs": [
    {
     "data": {
      "text/html": [
       "<div>\n",
       "<style scoped>\n",
       "    .dataframe tbody tr th:only-of-type {\n",
       "        vertical-align: middle;\n",
       "    }\n",
       "\n",
       "    .dataframe tbody tr th {\n",
       "        vertical-align: top;\n",
       "    }\n",
       "\n",
       "    .dataframe thead th {\n",
       "        text-align: right;\n",
       "    }\n",
       "</style>\n",
       "<table border=\"1\" class=\"dataframe\">\n",
       "  <thead>\n",
       "    <tr style=\"text-align: right;\">\n",
       "      <th></th>\n",
       "      <th>index</th>\n",
       "      <th>Beta</th>\n",
       "    </tr>\n",
       "  </thead>\n",
       "  <tbody>\n",
       "    <tr>\n",
       "      <th>0</th>\n",
       "      <td>CVX</td>\n",
       "      <td>-0.154297</td>\n",
       "    </tr>\n",
       "    <tr>\n",
       "      <th>1</th>\n",
       "      <td>CAT</td>\n",
       "      <td>-0.163706</td>\n",
       "    </tr>\n",
       "    <tr>\n",
       "      <th>2</th>\n",
       "      <td>MRK</td>\n",
       "      <td>-0.008013</td>\n",
       "    </tr>\n",
       "    <tr>\n",
       "      <th>3</th>\n",
       "      <td>TRV</td>\n",
       "      <td>-0.047879</td>\n",
       "    </tr>\n",
       "    <tr>\n",
       "      <th>4</th>\n",
       "      <td>AMGN</td>\n",
       "      <td>0.027945</td>\n",
       "    </tr>\n",
       "  </tbody>\n",
       "</table>\n",
       "</div>"
      ],
      "text/plain": [
       "  index      Beta\n",
       "0   CVX -0.154297\n",
       "1   CAT -0.163706\n",
       "2   MRK -0.008013\n",
       "3   TRV -0.047879\n",
       "4  AMGN  0.027945"
      ]
     },
     "execution_count": 44,
     "metadata": {},
     "output_type": "execute_result"
    }
   ],
   "source": [
    "# Calculating the Beta of each one of the stocks\n",
    "\n",
    "Beta = []\n",
    "\n",
    "for stock in stock_pct_reduced:\n",
    "    temp = (cov_matrix.loc[\"SnP\",stock]) / (cov_matrix.loc[\"SnP\",\"SnP\"])\n",
    "    Beta.append(temp)\n",
    "\n",
    "stocks_tickers = stock_pct_reduced.columns.to_list()\n",
    "Betas = pd.DataFrame({\"Beta\":Beta},index = stocks_tickers).reset_index()\n",
    "\n",
    "Betas\n"
   ]
  },
  {
   "cell_type": "code",
   "execution_count": 45,
   "metadata": {},
   "outputs": [
    {
     "data": {
      "text/html": [
       "<div>\n",
       "<style scoped>\n",
       "    .dataframe tbody tr th:only-of-type {\n",
       "        vertical-align: middle;\n",
       "    }\n",
       "\n",
       "    .dataframe tbody tr th {\n",
       "        vertical-align: top;\n",
       "    }\n",
       "\n",
       "    .dataframe thead th {\n",
       "        text-align: right;\n",
       "    }\n",
       "</style>\n",
       "<table border=\"1\" class=\"dataframe\">\n",
       "  <thead>\n",
       "    <tr style=\"text-align: right;\">\n",
       "      <th></th>\n",
       "      <th>Stocks</th>\n",
       "      <th>Weights</th>\n",
       "    </tr>\n",
       "  </thead>\n",
       "  <tbody>\n",
       "    <tr>\n",
       "      <th>0</th>\n",
       "      <td>CVX weight</td>\n",
       "      <td>0.260949</td>\n",
       "    </tr>\n",
       "    <tr>\n",
       "      <th>1</th>\n",
       "      <td>CAT weight</td>\n",
       "      <td>0.086227</td>\n",
       "    </tr>\n",
       "    <tr>\n",
       "      <th>2</th>\n",
       "      <td>MRK weight</td>\n",
       "      <td>0.618342</td>\n",
       "    </tr>\n",
       "    <tr>\n",
       "      <th>3</th>\n",
       "      <td>TRV weight</td>\n",
       "      <td>0.020639</td>\n",
       "    </tr>\n",
       "    <tr>\n",
       "      <th>4</th>\n",
       "      <td>AMGN weight</td>\n",
       "      <td>0.013843</td>\n",
       "    </tr>\n",
       "  </tbody>\n",
       "</table>\n",
       "</div>"
      ],
      "text/plain": [
       "        Stocks   Weights\n",
       "0   CVX weight  0.260949\n",
       "1   CAT weight  0.086227\n",
       "2   MRK weight  0.618342\n",
       "3   TRV weight  0.020639\n",
       "4  AMGN weight  0.013843"
      ]
     },
     "execution_count": 45,
     "metadata": {},
     "output_type": "execute_result"
    }
   ],
   "source": [
    "weights = optimal_risky_portfolio.rename(columns={\"Unnamed: 0\":\"Stocks\",\"6417\":\"Weights\"}).drop(labels=[0,1]).reset_index(drop=True)\n",
    "weights"
   ]
  },
  {
   "cell_type": "code",
   "execution_count": 46,
   "metadata": {},
   "outputs": [
    {
     "data": {
      "text/plain": [
       "-0.05993566966625108"
      ]
     },
     "execution_count": 46,
     "metadata": {},
     "output_type": "execute_result"
    }
   ],
   "source": [
    "# Optimal Portfolio Beta\n",
    "# port_beta = sum(Betas[\"Beta\"]*weights[\"Weights\"])\n",
    "port_beta = Betas[\"Beta\"].mul(weights[\"Weights\"]).sum()\n",
    "port_beta\n"
   ]
  },
  {
   "cell_type": "code",
   "execution_count": 50,
   "metadata": {},
   "outputs": [
    {
     "data": {
      "text/plain": [
       "Text(0.5, 1.0, 'Return vs Beta for Selected Stocks')"
      ]
     },
     "execution_count": 50,
     "metadata": {},
     "output_type": "execute_result"
    },
    {
     "data": {
      "image/png": "[encoded data removed]",
      "text/plain": [
       "<Figure size 640x480 with 1 Axes>"
      ]
     },
     "metadata": {},
     "output_type": "display_data"
    }
   ],
   "source": [
    "# Calculating again annual returns\n",
    "annual_return_stocks = stock_pct_reduced.mean()*252\n",
    "annual_return_indices = indices_pct.mean()*252\n",
    "\n",
    "# Plotting the Security Market Line (SML)\n",
    "\n",
    "slope = annual_return_indices[\"SnP\"] - 0.050\n",
    "x_line = [-1,2] # Beta of risk free asset is 0, Beta of S&P500 is 1\n",
    "y_line = [x_line[0]*slope+0.05,x_line[1]*slope+0.05]\n",
    "\n",
    "\n",
    "plt.plot(x_line,y_line)\n",
    "plt.scatter(Betas[\"Beta\"],annual_return_stocks)\n",
    "plt.scatter([0,1],[0.05,annual_return_indices[\"SnP\"]])\n",
    "plt.grid()\n",
    "plt.xlim(-1,2)\n",
    "for i in range(len(annual_return_stocks)):\n",
    "    plt.annotate(Betas[\"index\"][i], (Betas[\"Beta\"][i], annual_return_stocks[i] + 0.01))\n",
    "plt.xlabel(\"Beta\")\n",
    "plt.ylabel(\"Annual Rate of Return\")\n",
    "plt.title(\"Return vs Beta for Selected Stocks\")\n",
    "\n",
    "\n"
   ]
  }
 ],
 "metadata": {
  "kernelspec": {
   "display_name": "Python 3",
   "language": "python",
   "name": "python3"
  },
  "language_info": {
   "codemirror_mode": {
    "name": "ipython",
    "version": 3
   },
   "file_extension": ".py",
   "mimetype": "text/x-python",
   "name": "python",
   "nbconvert_exporter": "python",
   "pygments_lexer": "ipython3",
   "version": "3.10.1"
  },
  "orig_nbformat": 4,
  "vscode": {
   "interpreter": {
    "hash": "aee8b7b246df8f9039afb4144a1f6fd8d2ca17a180786b69acc140d282b71a49"
   }
  }
 },
 "nbformat": 4,
 "nbformat_minor": 2
}
