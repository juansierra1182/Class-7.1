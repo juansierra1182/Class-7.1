{
 "cells": [
  {
   "cell_type": "code",
   "execution_count": 35,
   "metadata": {},
   "outputs": [],
   "source": [
    "# Import libraries\n",
    "import pandas as pd"
   ]
  },
  {
   "cell_type": "code",
   "execution_count": 38,
   "metadata": {},
   "outputs": [],
   "source": [
    "tickers = ['AAPL','AMGN','AXP','BA','CAT','CRM','CSCO','CVX','DIS',\n",
    "            'DOW','GS','HD','HON','IBM','INTC','JNJ','JPM','KO','MCD',\n",
    "            'MMM','MRK','MSFT','NKE','TRV','UNH','V','VZ','WBA','WMT']\n",
    "\n",
    "# Get CSV files list from a folder\n",
    "path = 'Resources/'\n",
    "\n",
    "#creating an empty dataframe that will hold the condensed data\n",
    "\n",
    "stock_data_closings = pd.DataFrame()\n",
    "stock_data_volumes = pd.DataFrame()\n",
    "\n",
    "# Creating a dataFrame per each ticker, keeping only the \"Adj Close\" column, renaming it with the ticker, and then appending all\n",
    "# into the DataFrame\n",
    "for symbol in tickers:\n",
    "    temp_df = pd.read_csv(path + symbol +'.csv')\n",
    "    temp_df = temp_df.rename(columns={\"Adj Close\":symbol})\n",
    "    temp_df = temp_df[symbol]\n",
    "    stock_data_closings[symbol] = temp_df\n",
    "\n",
    "# Do the same but for volumes\n",
    "for symbol in tickers:\n",
    "    temp_df = pd.read_csv(path + symbol +'.csv')\n",
    "    temp_df = temp_df.rename(columns={\"Volume\":symbol})\n",
    "    temp_df = temp_df[symbol]\n",
    "    stock_data_volumes[symbol] = temp_df\n",
    "\n",
    "# Creating DataFrames for each of the Market Indices, Dow Jones and S&P500\n",
    "DJI_df = pd.read_csv(path + 'DJI.csv')\n",
    "SnP_df = pd.read_csv(path + 'S&P.csv')\n",
    "\n",
    "# Exporting the DataFrames into csv'set\n",
    "\n",
    "stock_data_closings.to_csv('Outputs/stock_data_closings.csv')\n",
    "stock_data_volumes.to_csv('Outputs/stock_data_volumes.csv')"
   ]
  }
 ],
 "metadata": {
  "kernelspec": {
   "display_name": "base",
   "language": "python",
   "name": "python3"
  },
  "language_info": {
   "codemirror_mode": {
    "name": "ipython",
    "version": 3
   },
   "file_extension": ".py",
   "mimetype": "text/x-python",
   "name": "python",
   "nbconvert_exporter": "python",
   "pygments_lexer": "ipython3",
   "version": "3.9.12"
  },
  "orig_nbformat": 4,
  "vscode": {
   "interpreter": {
    "hash": "9dc72cc5b0511d9de27a1ea476d591c57f07c22c3698dbe4a85a337fd233505b"
   }
  }
 },
 "nbformat": 4,
 "nbformat_minor": 2
}
