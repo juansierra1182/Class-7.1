{
 "cells": [
  {
   "cell_type": "code",
   "execution_count": 2,
   "metadata": {},
   "outputs": [],
   "source": [
    "# Import libraries\n",
    "import pandas as pd"
   ]
  },
  {
   "cell_type": "code",
   "execution_count": 4,
   "metadata": {},
   "outputs": [],
   "source": [
    "tickers = ['AAPL','AMGN','AXP','BA','CAT','CRM','CSCO','CVX','DIS',\n",
    "            'DOW','GS','HD','HON','IBM','INTC','JNJ','JPM','KO','MCD',\n",
    "            'MMM','MRK','MSFT','NKE','TRV','UNH','V','VZ','WBA','WMT']\n",
    "\n",
    "# Get CSV files list from a folder\n",
    "path = 'Resources/'\n",
    "\n",
    "#creating an empty dataframe that will hold the condensed data\n",
    "\n",
    "stock_data_closings = pd.DataFrame()\n",
    "stock_data_volumes = pd.DataFrame()\n",
    "\n",
    "# Creating a dataFrame per each ticker, keeping only the \"Adj Close\" column, renaming it with the ticker, and then appending all\n",
    "# into the DataFrame\n",
    "for symbol in tickers:\n",
    "    temp_df = pd.read_csv(path + symbol +'.csv')\n",
    "    temp_df = temp_df.rename(columns={\"Adj Close\":symbol})\n",
    "    temp_df = temp_df[symbol]\n",
    "    stock_data_closings[symbol] = temp_df\n",
    "\n",
    "# Do the same but for volumes\n",
    "for symbol in tickers:\n",
    "    temp_df = pd.read_csv(path + symbol +'.csv')\n",
    "    temp_df = temp_df.rename(columns={\"Volume\":symbol})\n",
    "    temp_df = temp_df[symbol]\n",
    "    stock_data_volumes[symbol] = temp_df\n",
    "\n",
    "# Creating DataFrames for each of the Market Indices, Dow Jones and S&P500\n",
    "indices_prices = pd.DataFrame()\n",
    "indices_prices['DJI'] = pd.read_csv(\"Resources/DJI.csv\")['Adj Close**']\n",
    "indices_prices['SnP'] = pd.read_csv(\"Resources/S&P.csv\")['Adj Close**']\n",
    "\n",
    "indices_volumes = pd.DataFrame()\n",
    "indices_volumes['DJI'] = pd.read_csv(\"Resources/DJI.csv\")['Volume']\n",
    "indices_volumes['SnP'] = pd.read_csv(\"Resources/S&P.csv\")['Volume']\n",
    "\n",
    "# Changing the strings to floats\n",
    "indices_prices['DJI'] = indices_prices['DJI'].str.replace(\",\",\"\").astype('float64')\n",
    "indices_prices['SnP'] = indices_prices['SnP'].str.replace(\",\",\"\").astype('float64')\n",
    "\n",
    "indices_volumes['DJI'] = indices_volumes['DJI'].str.replace(\",\",\"\").astype('float64')\n",
    "indices_volumes['SnP'] = indices_volumes['SnP'].str.replace(\",\",\"\").astype('float64')\n",
    "\n",
    "# @NOTE: Another way of changing the string to float\n",
    "# indices['DJI'].apply(lambda x: float(x.replace(',','')))\n",
    "\n",
    "# Exporting the DataFrames into csv'set\n",
    "\n",
    "indices_volumes.to_csv('Outputs/indices_volumes.csv',index=False)\n",
    "indices_prices.to_csv('Outputs/indices_prices.csv',index=False)\n",
    "\n",
    "stock_data_closings.to_csv('Outputs/stock_data_closings.csv',index=False)\n",
    "stock_data_volumes.to_csv('Outputs/stock_data_volumes.csv',index=False)"
   ]
  }
 ],
 "metadata": {
  "kernelspec": {
   "display_name": "base",
   "language": "python",
   "name": "python3"
  },
  "language_info": {
   "codemirror_mode": {
    "name": "ipython",
    "version": 3
   },
   "file_extension": ".py",
   "mimetype": "text/x-python",
   "name": "python",
   "nbconvert_exporter": "python",
   "pygments_lexer": "ipython3",
   "version": "3.9.12"
  },
  "orig_nbformat": 4,
  "vscode": {
   "interpreter": {
    "hash": "9dc72cc5b0511d9de27a1ea476d591c57f07c22c3698dbe4a85a337fd233505b"
   }
  }
 },
 "nbformat": 4,
 "nbformat_minor": 2
}
